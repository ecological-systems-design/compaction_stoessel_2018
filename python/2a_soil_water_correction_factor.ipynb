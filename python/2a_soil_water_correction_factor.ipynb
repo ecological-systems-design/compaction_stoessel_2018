{
 "cells": [
  {
   "cell_type": "code",
   "execution_count": 1,
   "metadata": {
    "collapsed": true
   },
   "outputs": [],
   "source": [
    "import os\n",
    "import mypackages.myrasters as mr\n",
    "import numpy as np\n",
    "import matplotlib.pyplot as plt\n",
    "%matplotlib inline"
   ]
  },
  {
   "cell_type": "code",
   "execution_count": 2,
   "metadata": {
    "collapsed": true
   },
   "outputs": [],
   "source": [
    "swc_dir = os.path.join('..', 'output/soil_water_content_prepared')\n",
    "soil_dir = os.path.join('..', 'output/soilgrids_prepared')\n",
    "out_dir = os.path.join('..', 'output/corrections_calculated')"
   ]
  },
  {
   "cell_type": "code",
   "execution_count": 3,
   "metadata": {
    "collapsed": true
   },
   "outputs": [],
   "source": [
    "months = ['jan', 'feb', 'mar', 'apr', 'may', 'jun',\n",
    "          'jul', 'aug', 'sep', 'oct', 'nov', 'dec']"
   ]
  },
  {
   "cell_type": "code",
   "execution_count": 4,
   "metadata": {},
   "outputs": [
    {
     "name": "stdout",
     "output_type": "stream",
     "text": [
      "CPU times: user 1min 8s, sys: 18.2 s, total: 1min 26s\n",
      "Wall time: 1min 26s\n"
     ]
    }
   ],
   "source": [
    "%%time\n",
    "\n",
    "swc_corr_monthly =[]\n",
    "\n",
    "for i in range(0, 12):\n",
    "    filename = str(i+1) + '_swc_corr_' + months[i] +'.tif'\n",
    "    raster = mr.MyRaster(os.path.join(swc_dir, filename))\n",
    "    swc = raster.get_array().astype('uint16')\n",
    "    swc_corr_monthly.append(swc)\n",
    "\n",
    "swc_corr_monthly = np.array(swc_corr_monthly)"
   ]
  },
  {
   "cell_type": "code",
   "execution_count": 5,
   "metadata": {
    "collapsed": true
   },
   "outputs": [],
   "source": [
    "NoDataValue = np.iinfo('uint16').max\n",
    "xSize = swc.shape[1]\n",
    "ySize = swc.shape[0]\n",
    "originX = -180\n",
    "originY = 83.99916720600001\n",
    "pixelWidth = raster.pixelWidth\n",
    "pixelHeight = raster.pixelHeight"
   ]
  },
  {
   "cell_type": "markdown",
   "metadata": {},
   "source": [
    "Top soil:"
   ]
  },
  {
   "cell_type": "code",
   "execution_count": 6,
   "metadata": {},
   "outputs": [
    {
     "name": "stdout",
     "output_type": "stream",
     "text": [
      "CPU times: user 3min 29s, sys: 1min 30s, total: 5min\n",
      "Wall time: 5min\n"
     ]
    }
   ],
   "source": [
    "%%time\n",
    "\n",
    "wt_monthly = []\n",
    "\n",
    "for i in range(0, 12):\n",
    "    swc = swc_corr_monthly[i]\n",
    "    \n",
    "    w = swc * 40.425\n",
    "    w = w - 86.24  # wt = (swc/10 * 0.2625 - 0.056) * 0.00154 (* clay content)\n",
    "    x = 255 * 40.425 - 86.24\n",
    "    w[w == x] = NoDataValue\n",
    "    array = w.round(0).astype('uint16')\n",
    "    \n",
    "    out_filename = 'ts_' + str(i+1) + '_wcorr_1e6_' + months[i]\n",
    "    mr.array2geotiff(array, os.path.join(out_dir, out_filename),\n",
    "                     NoDataValue, xSize, ySize, \n",
    "                     originX, originY, pixelWidth, pixelHeight)\n",
    "    \n",
    "    wt_monthly.append(array)\n",
    "wt_monthly = np.array(wt_monthly)"
   ]
  },
  {
   "cell_type": "code",
   "execution_count": 7,
   "metadata": {},
   "outputs": [
    {
     "name": "stdout",
     "output_type": "stream",
     "text": [
      "CPU times: user 34 s, sys: 4.1 s, total: 38.1 s\n",
      "Wall time: 38 s\n"
     ]
    }
   ],
   "source": [
    "%%time\n",
    "\n",
    "array = wt_monthly.mean(axis=0)\n",
    "array = array.round(0)\n",
    "array = array.astype('uint16')\n",
    "out_filename = 'ts_wcorr_1e6_yearly_mean'\n",
    "\n",
    "mr.array2geotiff(array, os.path.join(out_dir, out_filename),\n",
    "                 NoDataValue, xSize, ySize, \n",
    "                 originX, originY, pixelWidth, pixelHeight)"
   ]
  },
  {
   "cell_type": "code",
   "execution_count": 8,
   "metadata": {},
   "outputs": [
    {
     "name": "stdout",
     "output_type": "stream",
     "text": [
      "CPU times: user 1min 33s, sys: 1min 21s, total: 2min 55s\n",
      "Wall time: 2min 55s\n"
     ]
    }
   ],
   "source": [
    "%%time\n",
    "\n",
    "array = wt_monthly.std(axis=0)\n",
    "array = array.round(0)\n",
    "array = array.astype('uint16')\n",
    "array[wt_monthly[0] == NoDataValue] = NoDataValue\n",
    "\n",
    "out_filename = 'ts_wcorr_1e6_yearly_std'\n",
    "\n",
    "mr.array2geotiff(array, os.path.join(out_dir, out_filename),\n",
    "                 NoDataValue, xSize, ySize, \n",
    "                 originX, originY, pixelWidth, pixelHeight)"
   ]
  },
  {
   "cell_type": "code",
   "execution_count": 9,
   "metadata": {
    "collapsed": true
   },
   "outputs": [],
   "source": [
    "wt_monthly = None"
   ]
  },
  {
   "cell_type": "markdown",
   "metadata": {},
   "source": [
    "Mid soil:"
   ]
  },
  {
   "cell_type": "code",
   "execution_count": 10,
   "metadata": {},
   "outputs": [
    {
     "name": "stdout",
     "output_type": "stream",
     "text": [
      "CPU times: user 3min 30s, sys: 1min 12s, total: 4min 43s\n",
      "Wall time: 4min 43s\n"
     ]
    }
   ],
   "source": [
    "%%time\n",
    "\n",
    "wm_monthly = []\n",
    "\n",
    "for i in range(0, 12):\n",
    "    swc = swc_corr_monthly[i]\n",
    "    \n",
    "    swc[swc < 20] = 20   # set (potentially) negative values to 0 (see next equation)\n",
    "    w = swc - 20\n",
    "    w = w * 81.5  # wt = (swc/10 - 2) * 0.326 / 40\n",
    "    x = (255 - 20) * 81.5\n",
    "    w[w == x] = NoDataValue\n",
    "    array = w.round(0).astype('uint16')\n",
    "    \n",
    "    out_filename = 'ms_' + str(i+1) + '_wcorr_1e5_' + months[i]\n",
    "    mr.array2geotiff(array, os.path.join(out_dir, out_filename),\n",
    "                     NoDataValue, xSize, ySize, \n",
    "                     originX, originY, pixelWidth, pixelHeight)\n",
    "    \n",
    "    wm_monthly.append(array)\n",
    "wm_monthly = np.array(wm_monthly)"
   ]
  },
  {
   "cell_type": "code",
   "execution_count": 11,
   "metadata": {},
   "outputs": [
    {
     "name": "stdout",
     "output_type": "stream",
     "text": [
      "CPU times: user 39.6 s, sys: 6.58 s, total: 46.2 s\n",
      "Wall time: 46.2 s\n"
     ]
    }
   ],
   "source": [
    "%%time\n",
    "\n",
    "array = wm_monthly.mean(axis=0)\n",
    "array = array.round(0)\n",
    "array = array.astype('uint16')\n",
    "out_filename = 'ms_wcorr_1e5_yearly_mean'\n",
    "\n",
    "mr.array2geotiff(array, os.path.join(out_dir, out_filename),\n",
    "                 NoDataValue, xSize, ySize, \n",
    "                 originX, originY, pixelWidth, pixelHeight)"
   ]
  },
  {
   "cell_type": "code",
   "execution_count": 12,
   "metadata": {},
   "outputs": [
    {
     "name": "stdout",
     "output_type": "stream",
     "text": [
      "CPU times: user 1min 37s, sys: 1min 20s, total: 2min 58s\n",
      "Wall time: 2min 58s\n"
     ]
    }
   ],
   "source": [
    "%%time\n",
    "\n",
    "array = wm_monthly.std(axis=0)\n",
    "array = array.round(0)\n",
    "array = array.astype('uint16')\n",
    "array[wm_monthly[0] == NoDataValue] = NoDataValue\n",
    "\n",
    "out_filename = 'ms_wcorr_1e5_yearly_std'\n",
    "\n",
    "mr.array2geotiff(array, os.path.join(out_dir, out_filename),\n",
    "                 NoDataValue, xSize, ySize, \n",
    "                 originX, originY, pixelWidth, pixelHeight)"
   ]
  },
  {
   "cell_type": "code",
   "execution_count": 13,
   "metadata": {
    "collapsed": true
   },
   "outputs": [],
   "source": [
    "wm_monthly = None"
   ]
  },
  {
   "cell_type": "markdown",
   "metadata": {},
   "source": [
    "Bottom soil:"
   ]
  },
  {
   "cell_type": "code",
   "execution_count": 14,
   "metadata": {},
   "outputs": [
    {
     "name": "stdout",
     "output_type": "stream",
     "text": [
      "CPU times: user 3min 23s, sys: 49.9 s, total: 4min 13s\n",
      "Wall time: 4min 13s\n"
     ]
    }
   ],
   "source": [
    "%%time\n",
    "\n",
    "wb_monthly = []\n",
    "\n",
    "for i in range(0, 12):\n",
    "    swc = swc_corr_monthly[i]\n",
    "    \n",
    "    swc[swc < 20] = 20   # set (potentially) negative values to 0 (see next equation)\n",
    "    w = swc - 20\n",
    "    w = w * 6.8  # wt = (swc/10 - 2) * 0.272 / 400\n",
    "    x = (255 - 20) * 6.8\n",
    "    w[w == x] = NoDataValue\n",
    "    array = w.round(0).astype('uint16')\n",
    "    \n",
    "    out_filename = 'bs_' + str(i+1) + '_wcorr_1e5_' + months[i]\n",
    "    mr.array2geotiff(array, os.path.join(out_dir, out_filename),\n",
    "                     NoDataValue, xSize, ySize, \n",
    "                     originX, originY, pixelWidth, pixelHeight)\n",
    "    \n",
    "    wb_monthly.append(array)\n",
    "wb_monthly = np.array(wb_monthly)"
   ]
  },
  {
   "cell_type": "code",
   "execution_count": 15,
   "metadata": {},
   "outputs": [
    {
     "name": "stdout",
     "output_type": "stream",
     "text": [
      "CPU times: user 39.3 s, sys: 5.16 s, total: 44.5 s\n",
      "Wall time: 44.5 s\n"
     ]
    }
   ],
   "source": [
    "%%time\n",
    "\n",
    "array = wb_monthly.mean(axis=0)\n",
    "array = array.round(0)\n",
    "array = array.astype('uint16')\n",
    "out_filename = 'bs_wcorr_1e5_yearly_mean'\n",
    "\n",
    "mr.array2geotiff(array, os.path.join(out_dir, out_filename),\n",
    "                 NoDataValue, xSize, ySize, \n",
    "                 originX, originY, pixelWidth, pixelHeight)"
   ]
  },
  {
   "cell_type": "code",
   "execution_count": 16,
   "metadata": {},
   "outputs": [
    {
     "name": "stdout",
     "output_type": "stream",
     "text": [
      "CPU times: user 1min 35s, sys: 6min 10s, total: 7min 45s\n",
      "Wall time: 8min 44s\n"
     ]
    }
   ],
   "source": [
    "%%time\n",
    "\n",
    "array = wb_monthly.std(axis=0)\n",
    "array = array.round(0)\n",
    "array = array.astype('uint16')\n",
    "array[wb_monthly[0] == NoDataValue] = NoDataValue\n",
    "\n",
    "out_filename = 'bs_wcorr_1e5_yearly_std'\n",
    "\n",
    "mr.array2geotiff(array, os.path.join(out_dir, out_filename),\n",
    "                 NoDataValue, xSize, ySize, \n",
    "                 originX, originY, pixelWidth, pixelHeight)"
   ]
  },
  {
   "cell_type": "code",
   "execution_count": 17,
   "metadata": {
    "collapsed": true
   },
   "outputs": [],
   "source": [
    "wb_monthly = None"
   ]
  },
  {
   "cell_type": "code",
   "execution_count": null,
   "metadata": {
    "collapsed": true
   },
   "outputs": [],
   "source": []
  }
 ],
 "metadata": {
  "anaconda-cloud": {},
  "kernelspec": {
   "display_name": "Python [conda env:py36_gis]",
   "language": "python",
   "name": "conda-env-py36_gis-py"
  },
  "language_info": {
   "codemirror_mode": {
    "name": "ipython",
    "version": 3
   },
   "file_extension": ".py",
   "mimetype": "text/x-python",
   "name": "python",
   "nbconvert_exporter": "python",
   "pygments_lexer": "ipython3",
   "version": "3.6.2"
  }
 },
 "nbformat": 4,
 "nbformat_minor": 2
}
