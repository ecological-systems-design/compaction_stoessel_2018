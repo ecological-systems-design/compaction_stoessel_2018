{
 "cells": [
  {
   "cell_type": "markdown",
   "metadata": {},
   "source": [
    "This code produces maps for a comparison of impact of potato and wheat."
   ]
  },
  {
   "cell_type": "code",
   "execution_count": 17,
   "metadata": {
    "collapsed": true
   },
   "outputs": [],
   "source": [
    "import os\n",
    "import mypackages.myrasters as mr\n",
    "import numpy as np\n",
    "import fiona\n",
    "import pandas as pd\n",
    "import geopandas as gpd\n",
    "import matplotlib\n",
    "import matplotlib.pyplot as plt\n",
    "from mpl_toolkits.axes_grid1 import make_axes_locatable\n",
    "%matplotlib inline"
   ]
  },
  {
   "cell_type": "code",
   "execution_count": 18,
   "metadata": {
    "collapsed": true
   },
   "outputs": [],
   "source": [
    "data_dir = os.path.join('..', 'data')\n",
    "cf_dir = os.path.join('..', 'output/characterization_factors')\n",
    "out_dir = os.path.join('..', 'output/impact')"
   ]
  },
  {
   "cell_type": "code",
   "execution_count": 19,
   "metadata": {
    "collapsed": true
   },
   "outputs": [],
   "source": [
    "shapefile_name = 'shapefiles/countries.shp'\n",
    "shapefile = os.path.join(data_dir, shapefile_name)"
   ]
  },
  {
   "cell_type": "markdown",
   "metadata": {},
   "source": [
    "Read in the ton-kilometers per crop:"
   ]
  },
  {
   "cell_type": "code",
   "execution_count": 20,
   "metadata": {
    "collapsed": true,
    "scrolled": true
   },
   "outputs": [],
   "source": [
    "tkm = pd.read_csv(os.path.join(data_dir, 'inventory/tkm_inventory.csv'), index_col=0)"
   ]
  },
  {
   "cell_type": "markdown",
   "metadata": {},
   "source": [
    "Read in the characterization factor rasters:"
   ]
  },
  {
   "cell_type": "code",
   "execution_count": 21,
   "metadata": {
    "collapsed": true
   },
   "outputs": [],
   "source": [
    "ts_raster = mr.MyRaster(os.path.join(cf_dir, 'ts_100yrs.tif'))\n",
    "ms_raster = mr.MyRaster(os.path.join(cf_dir, 'ms_100yrs.tif'))\n",
    "bs_raster = mr.MyRaster(os.path.join(cf_dir, 'bs_100yrs.tif'))"
   ]
  },
  {
   "cell_type": "markdown",
   "metadata": {},
   "source": [
    "Define a function to calculate the total impact:"
   ]
  },
  {
   "cell_type": "code",
   "execution_count": 22,
   "metadata": {
    "collapsed": true
   },
   "outputs": [],
   "source": [
    "def total_impact_global_raster(crop):\n",
    "        \n",
    "    ts_array = ts_raster.get_array()\n",
    "    ts = tkm[crop]['top soil'] * ts_array\n",
    "    \n",
    "    ts_array = None\n",
    "    \n",
    "    ms_array = ms_raster.get_array()\n",
    "    ms = tkm[crop]['mid soil'] * ms_array\n",
    "    \n",
    "    ms_array = None\n",
    "    \n",
    "    impact = ts + ms\n",
    "    \n",
    "    ts = None\n",
    "    ms = None\n",
    "    \n",
    "    bs_array = bs_raster.get_array()\n",
    "    bs = tkm[crop]['bottom soil'] * bs_array\n",
    "    \n",
    "    impact = impact + bs\n",
    "    \n",
    "    impact[bs_array == bs_raster.NoDataValue] = bs_raster.NoDataValue\n",
    "    \n",
    "    bs_array = None\n",
    "    bs = None\n",
    "    \n",
    "    impact = mr.mask_array(impact, bs_raster.NoDataValue)\n",
    "    \n",
    "    return impact\n"
   ]
  },
  {
   "cell_type": "markdown",
   "metadata": {},
   "source": [
    "Read in crops:"
   ]
  },
  {
   "cell_type": "code",
   "execution_count": 23,
   "metadata": {},
   "outputs": [
    {
     "data": {
      "text/plain": [
       "['Potatoes, OeLN intensive, wholesale',\n",
       " 'Potatoes, OeLN, wholesale',\n",
       " 'Potatoes, organic, wholesale',\n",
       " 'Potatoes, OeLN intensive, retail',\n",
       " 'Potatoes, OeLN, retail',\n",
       " 'Potatoes, organic, retail']"
      ]
     },
     "execution_count": 23,
     "metadata": {},
     "output_type": "execute_result"
    }
   ],
   "source": [
    "[col for col in tkm.columns if 'Potato' in col]"
   ]
  },
  {
   "cell_type": "code",
   "execution_count": 24,
   "metadata": {},
   "outputs": [
    {
     "data": {
      "text/plain": [
       "['Winter wheat TOP, OeLN intensive, wholesale',\n",
       " 'Winter wheat TOP, OeLN extensive, wholesale',\n",
       " 'Winter wheat TOP, organic, wholesale',\n",
       " 'Winter wheat TOP, OeLN extensive, retail',\n",
       " 'Winter wheat TOP, organic, retail',\n",
       " 'Summer wheat TOP, OeLN intensive, wholesale',\n",
       " 'Summer wheat TOP, OeLN extensive, wholesale',\n",
       " 'Summer wheat TOP, organic, wholesale']"
      ]
     },
     "execution_count": 24,
     "metadata": {},
     "output_type": "execute_result"
    }
   ],
   "source": [
    "[col for col in tkm.columns if 'wheat' in col]"
   ]
  },
  {
   "cell_type": "markdown",
   "metadata": {},
   "source": [
    "Run calculation:"
   ]
  },
  {
   "cell_type": "code",
   "execution_count": 25,
   "metadata": {},
   "outputs": [
    {
     "name": "stdout",
     "output_type": "stream",
     "text": [
      "CPU times: user 1min 24s, sys: 50.1 s, total: 2min 14s\n",
      "Wall time: 2min 13s\n"
     ]
    }
   ],
   "source": [
    "%%time\n",
    "\n",
    "potato = total_impact_global_raster('Potatoes, OeLN intensive, wholesale')\n",
    "wheat = total_impact_global_raster('Winter wheat TOP, OeLN intensive, wholesale')"
   ]
  },
  {
   "cell_type": "code",
   "execution_count": 26,
   "metadata": {},
   "outputs": [
    {
     "data": {
      "text/plain": [
       "0.41940131783485413"
      ]
     },
     "execution_count": 26,
     "metadata": {},
     "output_type": "execute_result"
    }
   ],
   "source": [
    "np.percentile(potato, 98)"
   ]
  },
  {
   "cell_type": "code",
   "execution_count": null,
   "metadata": {
    "collapsed": true
   },
   "outputs": [],
   "source": [
    "vmin = 0\n",
    "vmax = 0.5"
   ]
  },
  {
   "cell_type": "markdown",
   "metadata": {},
   "source": [
    "### Plot results:"
   ]
  },
  {
   "cell_type": "code",
   "execution_count": null,
   "metadata": {
    "collapsed": true
   },
   "outputs": [],
   "source": [
    "gdf = gpd.read_file(shapefile)"
   ]
  },
  {
   "cell_type": "code",
   "execution_count": null,
   "metadata": {
    "collapsed": true
   },
   "outputs": [],
   "source": [
    "def createColourbar(lwr, upr):\n",
    "    \"\"\"Create a colourbar with limits of lwr and upr\"\"\"\n",
    "    divider = make_axes_locatable(plt.gca())\n",
    "    cax = divider.append_axes(\"right\", size=\"2%\", pad=0.1)\n",
    "    norm = matplotlib.colors.Normalize(vmin = lwr, vmax = upr, clip = False)\n",
    "\n",
    "    c = matplotlib.colorbar.ColorbarBase(cax, cmap='YlOrRd', norm=norm)\n",
    "    return c"
   ]
  },
  {
   "cell_type": "code",
   "execution_count": null,
   "metadata": {
    "collapsed": true,
    "scrolled": false
   },
   "outputs": [],
   "source": [
    "%%time\n",
    "\n",
    "fig = plt.figure(figsize=(16, 9))\n",
    "ax = fig.add_subplot(111)\n",
    "\n",
    "ax.set_xlim([-180, 180])\n",
    "ax.set_ylim([-56, 84])\n",
    "ax.set_xticks([])\n",
    "ax.set_yticks([])\n",
    "ax.set_frame_on(False)\n",
    "\n",
    "gdf.plot(ax=ax, facecolor='none', edgecolor='#000000', linewidths=0.3)\n",
    "\n",
    "ax.imshow(potato, extent=[-180, 180, -56, 84], cmap='YlOrRd', vmin=vmin, vmax=vmax)\n",
    "\n",
    "norm = matplotlib.colors.Normalize(vmin, vmax, clip = False)\n",
    "\n",
    "cax = fig.add_axes([0.2, 0.25, 0.01, 0.3]) # xmin, ymin, dx, dy\n",
    "matplotlib.colorbar.ColorbarBase(cax, cmap='YlOrRd', norm=norm)\n",
    "cax.yaxis.set_ticks_position('left')\n",
    "\n",
    "plt.savefig(os.path.join(out_dir, 'impact_potato.png'),\n",
    "            dpi=300, bbox_inches='tight', pad_inches=0.1)"
   ]
  },
  {
   "cell_type": "code",
   "execution_count": null,
   "metadata": {
    "collapsed": true
   },
   "outputs": [],
   "source": [
    "%%time\n",
    "\n",
    "fig = plt.figure(figsize=(16, 9))\n",
    "ax = fig.add_subplot(111)\n",
    "\n",
    "ax.set_xlim([-180, 180])\n",
    "ax.set_ylim([-56, 84])\n",
    "ax.set_xticks([])\n",
    "ax.set_yticks([])\n",
    "ax.set_frame_on(False)\n",
    "\n",
    "gdf.plot(ax=ax, facecolor='none', edgecolor='#000000', linewidths=0.3)\n",
    "\n",
    "ax.set_xlim(-180, 180)\n",
    "ax.set_ylim(-56, 84)\n",
    "\n",
    "ax.imshow(wheat, extent=[-180, 180, -56, 84], cmap='YlOrRd', vmin=vmin, vmax=vmax)\n",
    "\n",
    "plt.savefig(os.path.join(out_dir, 'impact_wheat.png'),\n",
    "            dpi=300, bbox_inches='tight', pad_inches=0.1)"
   ]
  },
  {
   "cell_type": "code",
   "execution_count": null,
   "metadata": {
    "collapsed": true
   },
   "outputs": [],
   "source": [
    "out_filename = 'impact_potato'\n",
    "mr.array2geotiff_rastercopy(potato.data, os.path.join(out_dir, out_filename), bs_raster.raster)"
   ]
  },
  {
   "cell_type": "code",
   "execution_count": null,
   "metadata": {
    "collapsed": true
   },
   "outputs": [],
   "source": []
  }
 ],
 "metadata": {
  "anaconda-cloud": {},
  "kernelspec": {
   "display_name": "Python [conda env:py36_gis]",
   "language": "python",
   "name": "conda-env-py36_gis-py"
  },
  "language_info": {
   "codemirror_mode": {
    "name": "ipython",
    "version": 3
   },
   "file_extension": ".py",
   "mimetype": "text/x-python",
   "name": "python",
   "nbconvert_exporter": "python",
   "pygments_lexer": "ipython3",
   "version": "3.6.2"
  }
 },
 "nbformat": 4,
 "nbformat_minor": 2
}
