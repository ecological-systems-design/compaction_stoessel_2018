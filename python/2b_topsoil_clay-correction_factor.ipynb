{
 "cells": [
  {
   "cell_type": "code",
   "execution_count": 1,
   "metadata": {
    "collapsed": true
   },
   "outputs": [],
   "source": [
    "import os\n",
    "import mypackages.myrasters as mr\n",
    "import numpy as np\n",
    "import matplotlib.pyplot as plt\n",
    "%matplotlib inline"
   ]
  },
  {
   "cell_type": "code",
   "execution_count": 2,
   "metadata": {
    "collapsed": true
   },
   "outputs": [],
   "source": [
    "wcorr_dir = os.path.join('..', 'output/corrections_calculated')\n",
    "clay_dir = os.path.join('..', 'output/soilgrids_prepared')\n",
    "out_dir = wcorr_dir"
   ]
  },
  {
   "cell_type": "code",
   "execution_count": 3,
   "metadata": {
    "collapsed": true
   },
   "outputs": [],
   "source": [
    "months = ['jan', 'feb', 'mar', 'apr', 'may', 'jun',\n",
    "          'jul', 'aug', 'sep', 'oct', 'nov', 'dec']"
   ]
  },
  {
   "cell_type": "markdown",
   "metadata": {},
   "source": [
    "The clay layer has been resampled to the resolution of the soil water content rasters in ArcGIS."
   ]
  },
  {
   "cell_type": "code",
   "execution_count": 4,
   "metadata": {
    "collapsed": true
   },
   "outputs": [],
   "source": [
    "filename = 'CLYPPT_ts_resampled.tif'\n",
    "clay_raster = mr.MyRaster(os.path.join(clay_dir, filename))"
   ]
  },
  {
   "cell_type": "code",
   "execution_count": 5,
   "metadata": {
    "collapsed": true
   },
   "outputs": [],
   "source": [
    "clay = clay_raster.get_array()"
   ]
  },
  {
   "cell_type": "code",
   "execution_count": 6,
   "metadata": {
    "collapsed": true
   },
   "outputs": [],
   "source": [
    "clay = clay / 10"
   ]
  },
  {
   "cell_type": "code",
   "execution_count": 7,
   "metadata": {
    "scrolled": true
   },
   "outputs": [
    {
     "name": "stdout",
     "output_type": "stream",
     "text": [
      "CPU times: user 6min 5s, sys: 47.6 s, total: 6min 52s\n",
      "Wall time: 6min 53s\n"
     ]
    }
   ],
   "source": [
    "%%time\n",
    "\n",
    "ts_monthly =[]\n",
    "\n",
    "for i in range(0, 12):\n",
    "    filename = 'ts_' + str(i+1) + '_wcorr_1e6_' + months[i] + '.tif'\n",
    "    raster = mr.MyRaster(os.path.join(wcorr_dir, filename))\n",
    "    wcorr = raster.get_array()\n",
    "    ts = wcorr * clay\n",
    "    ts[wcorr == raster.NoDataValue] = raster.NoDataValue\n",
    "    ts[clay == clay_raster.NoDataValue / 10] = raster.NoDataValue\n",
    "    ts = ts.astype('uint16')\n",
    "    \n",
    "    ts_monthly.append(ts)\n",
    "    \n",
    "    out_filename = 'ts_' + str(i+1) + '_claycorr_1e5_' + months[i] + '.tif'\n",
    "    mr.array2geotiff_rastercopy(ts, os.path.join(out_dir, out_filename), raster.raster)\n",
    "\n",
    "ts_monthly = np.array(ts_monthly)"
   ]
  },
  {
   "cell_type": "code",
   "execution_count": 8,
   "metadata": {},
   "outputs": [
    {
     "name": "stdout",
     "output_type": "stream",
     "text": [
      "CPU times: user 35.6 s, sys: 3.46 s, total: 39.1 s\n",
      "Wall time: 39.1 s\n"
     ]
    }
   ],
   "source": [
    "%%time\n",
    "\n",
    "array = ts_monthly.mean(axis=0)\n",
    "array = array.round(0)\n",
    "array = array.astype('uint16')\n",
    "out_filename = 'ts_claycorr_1e5_yearly_mean'\n",
    "\n",
    "mr.array2geotiff_rastercopy(array, os.path.join(out_dir, out_filename), raster.raster)\n",
    "                 "
   ]
  },
  {
   "cell_type": "code",
   "execution_count": 9,
   "metadata": {},
   "outputs": [
    {
     "name": "stdout",
     "output_type": "stream",
     "text": [
      "CPU times: user 1min 45s, sys: 1min 39s, total: 3min 24s\n",
      "Wall time: 3min 24s\n"
     ]
    }
   ],
   "source": [
    "%%time\n",
    "\n",
    "array = ts_monthly.std(axis=0)\n",
    "array = array.round(0)\n",
    "array = array.astype('uint16')\n",
    "array[ts_monthly[0] == raster.NoDataValue] = raster.NoDataValue\n",
    "\n",
    "out_filename = 'ts_claycorr_1e5_yearly_std'\n",
    "\n",
    "mr.array2geotiff_rastercopy(array, os.path.join(out_dir, out_filename), raster.raster)\n"
   ]
  },
  {
   "cell_type": "code",
   "execution_count": null,
   "metadata": {
    "collapsed": true
   },
   "outputs": [],
   "source": []
  }
 ],
 "metadata": {
  "anaconda-cloud": {},
  "kernelspec": {
   "display_name": "Python [conda env:py36_gis]",
   "language": "python",
   "name": "conda-env-py36_gis-py"
  },
  "language_info": {
   "codemirror_mode": {
    "name": "ipython",
    "version": 3
   },
   "file_extension": ".py",
   "mimetype": "text/x-python",
   "name": "python",
   "nbconvert_exporter": "python",
   "pygments_lexer": "ipython3",
   "version": "3.6.2"
  }
 },
 "nbformat": 4,
 "nbformat_minor": 2
}
