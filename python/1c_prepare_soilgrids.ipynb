{
 "cells": [
  {
   "cell_type": "code",
   "execution_count": 1,
   "metadata": {
    "collapsed": true
   },
   "outputs": [],
   "source": [
    "import os\n",
    "import time\n",
    "import mypackages.myrasters as mr\n",
    "import numpy as np\n",
    "import matplotlib.pyplot as plt\n",
    "%matplotlib inline"
   ]
  },
  {
   "cell_type": "code",
   "execution_count": 2,
   "metadata": {
    "collapsed": true
   },
   "outputs": [],
   "source": [
    "data_dir = os.path.join('..', 'data/soilgrids')"
   ]
  },
  {
   "cell_type": "markdown",
   "metadata": {},
   "source": [
    "The average for the topsoil (layers 1-4) iscalculated with the help of a function defined for this purpose:"
   ]
  },
  {
   "cell_type": "code",
   "execution_count": 3,
   "metadata": {
    "collapsed": true
   },
   "outputs": [],
   "source": [
    "def average_0_30(files_list):\n",
    "    \n",
    "    start_time = time.time()\n",
    "    \n",
    "    raster1 = mr.MyRaster(files_list[0])\n",
    "    array1 = raster1.get_array().astype('int16')\n",
    "\n",
    "    raster2 = mr.MyRaster(files_list[1])\n",
    "    array2 = raster2.get_array().astype('int16')\n",
    "\n",
    "    sum1 = array1 + array2\n",
    "\n",
    "    array1 = None\n",
    "    \n",
    "    raster3 = mr.MyRaster(files_list[2])\n",
    "    array3 = raster3.get_array().astype('int16')\n",
    "    \n",
    "    sum2 = array2 + array3\n",
    "    \n",
    "    array2 = None\n",
    "    \n",
    "    print('sum done ', (time.time()-start_time)/60)\n",
    "    \n",
    "    raster4 = mr.MyRaster(files_list[3])\n",
    "    array4 = raster4.get_array().astype('int16')\n",
    "    \n",
    "    sum3 = array3 + array4\n",
    "                         \n",
    "    array3 = None\n",
    "    array4 = None\n",
    "    \n",
    "    print('sum done ', (time.time()-start_time)/60)\n",
    "    \n",
    "    sum2 = 2 * sum2\n",
    "    a = sum1 + sum2\n",
    "    \n",
    "    sum1 = None\n",
    "    sum2 = None\n",
    "    \n",
    "    print('sum done ', (time.time()-start_time)/60)\n",
    "    \n",
    "    sum3 = 3 * sum3\n",
    "    a = a + sum3\n",
    "     \n",
    "    print('sum done ', (time.time()-start_time)/60)\n",
    "        \n",
    "    a = a / 12  # total calculation is equal to (5*sum1 + 10*sum2 + 15*sum3) / 30 / 2\n",
    "    \n",
    "    print('division done ', (time.time()-start_time)/60)\n",
    "    \n",
    "    a = a.round(0)\n",
    "    a = a.astype('uint8')\n",
    "    \n",
    "    return a\n",
    "    "
   ]
  },
  {
   "cell_type": "code",
   "execution_count": 4,
   "metadata": {
    "collapsed": true
   },
   "outputs": [],
   "source": [
    "raster1 = mr.MyRaster(os.path.join(data_dir, 'CLYPPT_M_sl1_250m.tif'))"
   ]
  },
  {
   "cell_type": "code",
   "execution_count": null,
   "metadata": {
    "collapsed": true
   },
   "outputs": [],
   "source": [
    "%%time\n",
    "\n",
    "files_list = [os.path.join(data_dir, 'CLYPPT_M_sl1_250m.tif'), \n",
    "              os.path.join(data_dir, 'CLYPPT_M_sl2_250m.tif'),\n",
    "              os.path.join(data_dir, 'CLYPPT_M_sl3_250m.tif'),\n",
    "              os.path.join(data_dir, 'CLYPPT_M_sl4_250m.tif')]\n",
    "\n",
    "a = average_0_30(files_list)"
   ]
  },
  {
   "cell_type": "code",
   "execution_count": null,
   "metadata": {
    "collapsed": true
   },
   "outputs": [],
   "source": [
    "%%time\n",
    "\n",
    "mr.array2geotiff_rastercopy(a, os.path.join(data_dir, 'CLYPPT_ts'), raster1.raster)"
   ]
  },
  {
   "cell_type": "code",
   "execution_count": 5,
   "metadata": {},
   "outputs": [
    {
     "name": "stdout",
     "output_type": "stream",
     "text": [
      "Driver:  GTiff\n",
      "Projection:  GEOGCS[\"WGS 84\",DATUM[\"WGS_1984\",SPHEROID[\"WGS 84\",6378137,298.257223563,AUTHORITY[\"EPSG\",\"7030\"]],AUTHORITY[\"EPSG\",\"6326\"]],PRIMEM[\"Greenwich\",0],UNIT[\"degree\",0.0174532925199433],AUTHORITY[\"EPSG\",\"4326\"]]\n",
      "----------------------------------------------------------------------------------------------------\n",
      "Size:  172800 x 67200 x 1\n",
      "X min =  -180.0\n",
      "X max =  179.99994240015582\n",
      "Y min =  -56.00081039406058\n",
      "Y max =  83.99916720600001\n",
      "Origin = ( -180.0 , 83.99916720600001 )\n",
      "Pixel Size = ( 0.0020833330000009018 , -0.0020833330000009018 )\n",
      "No Data Value =  255.0\n"
     ]
    }
   ],
   "source": [
    "raster1.show_raster_properties()"
   ]
  },
  {
   "cell_type": "code",
   "execution_count": null,
   "metadata": {
    "collapsed": true
   },
   "outputs": [],
   "source": []
  }
 ],
 "metadata": {
  "anaconda-cloud": {},
  "kernelspec": {
   "display_name": "Python [conda env:py36_gis]",
   "language": "python",
   "name": "conda-env-py36_gis-py"
  },
  "language_info": {
   "codemirror_mode": {
    "name": "ipython",
    "version": 3
   },
   "file_extension": ".py",
   "mimetype": "text/x-python",
   "name": "python",
   "nbconvert_exporter": "python",
   "pygments_lexer": "ipython3",
   "version": "3.6.2"
  }
 },
 "nbformat": 4,
 "nbformat_minor": 2
}
