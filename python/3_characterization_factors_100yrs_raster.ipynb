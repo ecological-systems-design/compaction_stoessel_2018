{
 "cells": [
  {
   "cell_type": "markdown",
   "metadata": {},
   "source": [
    "This code calculates the characterization factors for three soil layers."
   ]
  },
  {
   "cell_type": "code",
   "execution_count": 1,
   "metadata": {
    "collapsed": true
   },
   "outputs": [],
   "source": [
    "import os\n",
    "import mypackages.myrasters as mr\n",
    "import numpy as np\n",
    "import matplotlib.pyplot as plt\n",
    "%matplotlib inline"
   ]
  },
  {
   "cell_type": "code",
   "execution_count": 2,
   "metadata": {
    "collapsed": true
   },
   "outputs": [],
   "source": [
    "data_dir = os.path.join('..', 'output/corrections_calculated')\n",
    "out_dir = os.path.join('..', 'output/characterization_factors')"
   ]
  },
  {
   "cell_type": "markdown",
   "metadata": {},
   "source": [
    "Yearly mean impact averaged over a 100 years time horizon is calculated: top soil and mid soil impacts are accordingly divided by 100, subsoil impact is already given as a yearly value.\n",
    "\n",
    "Top soil:"
   ]
  },
  {
   "cell_type": "code",
   "execution_count": 3,
   "metadata": {
    "collapsed": true
   },
   "outputs": [],
   "source": [
    "filename = 'ts_claycorr_1e5_yearly_mean.tif'\n",
    "ts_raster = mr.MyRaster(os.path.join(data_dir, filename))"
   ]
  },
  {
   "cell_type": "code",
   "execution_count": 4,
   "metadata": {
    "collapsed": true
   },
   "outputs": [],
   "source": [
    "ts = ts_raster.get_array()"
   ]
  },
  {
   "cell_type": "code",
   "execution_count": 5,
   "metadata": {
    "collapsed": true
   },
   "outputs": [],
   "source": [
    "ts_1e5_100yrs = ts / 100\n",
    "ts_1e5_100yrs = ts_1e5_100yrs / 1e5\n",
    "ts_1e5_100yrs[ts == ts_raster.NoDataValue] = -1"
   ]
  },
  {
   "cell_type": "code",
   "execution_count": 6,
   "metadata": {},
   "outputs": [
    {
     "data": {
      "text/plain": [
       "0.0014015"
      ]
     },
     "execution_count": 6,
     "metadata": {},
     "output_type": "execute_result"
    }
   ],
   "source": [
    "ts_1e5_100yrs.max()"
   ]
  },
  {
   "cell_type": "code",
   "execution_count": 7,
   "metadata": {},
   "outputs": [
    {
     "name": "stdout",
     "output_type": "stream",
     "text": [
      "CPU times: user 34.1 s, sys: 2.71 s, total: 36.8 s\n",
      "Wall time: 37 s\n"
     ]
    }
   ],
   "source": [
    "%%time\n",
    "\n",
    "array = ts_1e5_100yrs.astype('float32')\n",
    "filename = 'ts_100yrs'\n",
    "\n",
    "mr.array2geotiff(array, os.path.join(out_dir, filename), -1,\n",
    "                 ts_raster.xSize, ts_raster.ySize,\n",
    "                 ts_raster.xOrigin, ts_raster.yOrigin,\n",
    "                 ts_raster.pixelWidth, ts_raster.pixelHeight)"
   ]
  },
  {
   "cell_type": "code",
   "execution_count": 8,
   "metadata": {
    "collapsed": true
   },
   "outputs": [],
   "source": [
    "filename = 'ms_wcorr_1e5_yearly_mean.tif'\n",
    "ms_raster = mr.MyRaster(os.path.join(data_dir, filename))"
   ]
  },
  {
   "cell_type": "code",
   "execution_count": 9,
   "metadata": {
    "collapsed": true
   },
   "outputs": [],
   "source": [
    "ms = ms_raster.get_array()"
   ]
  },
  {
   "cell_type": "code",
   "execution_count": 10,
   "metadata": {
    "collapsed": true
   },
   "outputs": [],
   "source": [
    "ms_1e5_100yrs = ms / 100\n",
    "ms_1e5_100yrs = ms_1e5_100yrs / 1e5\n",
    "ms_1e5_100yrs[ts == ts_raster.NoDataValue] = -1"
   ]
  },
  {
   "cell_type": "code",
   "execution_count": 11,
   "metadata": {},
   "outputs": [
    {
     "data": {
      "text/plain": [
       "0.00024449999999999998"
      ]
     },
     "execution_count": 11,
     "metadata": {},
     "output_type": "execute_result"
    }
   ],
   "source": [
    "ms_1e5_100yrs.max()"
   ]
  },
  {
   "cell_type": "code",
   "execution_count": 12,
   "metadata": {},
   "outputs": [
    {
     "name": "stdout",
     "output_type": "stream",
     "text": [
      "CPU times: user 30 s, sys: 2.26 s, total: 32.2 s\n",
      "Wall time: 32.1 s\n"
     ]
    }
   ],
   "source": [
    "%%time\n",
    "\n",
    "array = ms_1e5_100yrs.astype('float32')\n",
    "filename = 'ms_100yrs'\n",
    "\n",
    "mr.array2geotiff(array, os.path.join(out_dir, filename), -1,\n",
    "                 ts_raster.xSize, ts_raster.ySize,\n",
    "                 ts_raster.xOrigin, ts_raster.yOrigin,\n",
    "                 ts_raster.pixelWidth, ts_raster.pixelHeight)"
   ]
  },
  {
   "cell_type": "markdown",
   "metadata": {},
   "source": [
    "Bottom soil:"
   ]
  },
  {
   "cell_type": "code",
   "execution_count": 13,
   "metadata": {
    "collapsed": true
   },
   "outputs": [],
   "source": [
    "filename = 'bs_wcorr_1e5_yearly_mean.tif'\n",
    "bs_raster = mr.MyRaster(os.path.join(data_dir, filename))"
   ]
  },
  {
   "cell_type": "code",
   "execution_count": 14,
   "metadata": {
    "collapsed": true
   },
   "outputs": [],
   "source": [
    "bs = bs_raster.get_array()"
   ]
  },
  {
   "cell_type": "code",
   "execution_count": 15,
   "metadata": {
    "collapsed": true
   },
   "outputs": [],
   "source": [
    "bs_1e5_100yrs = bs.astype('float64')\n",
    "bs_1e5_100yrs = bs_1e5_100yrs / 1e5\n",
    "bs_1e5_100yrs[ts == ts_raster.NoDataValue] = -1"
   ]
  },
  {
   "cell_type": "code",
   "execution_count": 16,
   "metadata": {},
   "outputs": [
    {
     "data": {
      "text/plain": [
       "0.0020400000000000001"
      ]
     },
     "execution_count": 16,
     "metadata": {},
     "output_type": "execute_result"
    }
   ],
   "source": [
    "bs_1e5_100yrs.max()"
   ]
  },
  {
   "cell_type": "code",
   "execution_count": 17,
   "metadata": {},
   "outputs": [
    {
     "name": "stdout",
     "output_type": "stream",
     "text": [
      "CPU times: user 28.2 s, sys: 2.07 s, total: 30.2 s\n",
      "Wall time: 30.1 s\n"
     ]
    }
   ],
   "source": [
    "%%time\n",
    "\n",
    "array = bs_1e5_100yrs.astype('float32')\n",
    "filename = 'bs_100yrs'\n",
    "\n",
    "mr.array2geotiff(array, os.path.join(out_dir, filename), -1,\n",
    "                 ts_raster.xSize, ts_raster.ySize,\n",
    "                 ts_raster.xOrigin, ts_raster.yOrigin,\n",
    "                 ts_raster.pixelWidth, ts_raster.pixelHeight)"
   ]
  },
  {
   "cell_type": "code",
   "execution_count": null,
   "metadata": {
    "collapsed": true
   },
   "outputs": [],
   "source": []
  }
 ],
 "metadata": {
  "anaconda-cloud": {},
  "kernelspec": {
   "display_name": "Python [conda env:py36_gis]",
   "language": "python",
   "name": "conda-env-py36_gis-py"
  },
  "language_info": {
   "codemirror_mode": {
    "name": "ipython",
    "version": 3
   },
   "file_extension": ".py",
   "mimetype": "text/x-python",
   "name": "python",
   "nbconvert_exporter": "python",
   "pygments_lexer": "ipython3",
   "version": "3.6.2"
  }
 },
 "nbformat": 4,
 "nbformat_minor": 2
}
