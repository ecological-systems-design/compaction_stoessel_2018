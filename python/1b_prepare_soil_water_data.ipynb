{
 "cells": [
  {
   "cell_type": "code",
   "execution_count": 1,
   "metadata": {},
   "outputs": [],
   "source": [
    "import os\n",
    "import mypackages.myrasters as mr\n",
    "import numpy as np\n",
    "import matplotlib.pyplot as plt\n",
    "%matplotlib inline"
   ]
  },
  {
   "cell_type": "code",
   "execution_count": 2,
   "metadata": {
    "collapsed": true
   },
   "outputs": [],
   "source": [
    "data_dir = os.path.join('..', 'data/CGIAR/swc_fr')\n",
    "irr_dir = os.path.join('..', 'output/irrigation_prepared')\n",
    "out_dir = os.path.join('..', 'output/soil_water_content_prepared')"
   ]
  },
  {
   "cell_type": "code",
   "execution_count": 3,
   "metadata": {
    "collapsed": true
   },
   "outputs": [],
   "source": [
    "months = ['jan', 'feb', 'mar', 'apr', 'may', 'jun',\n",
    "          'jul', 'aug', 'sep', 'oct', 'nov', 'dec']"
   ]
  },
  {
   "cell_type": "markdown",
   "metadata": {},
   "source": [
    "Load ar raster to check properties:"
   ]
  },
  {
   "cell_type": "code",
   "execution_count": 4,
   "metadata": {
    "collapsed": true
   },
   "outputs": [],
   "source": [
    "jan_raster = mr.MyRaster(os.path.join(data_dir, 'swc_fr_1/hdr.adf'))"
   ]
  },
  {
   "cell_type": "code",
   "execution_count": 5,
   "metadata": {},
   "outputs": [
    {
     "name": "stdout",
     "output_type": "stream",
     "text": [
      "Driver:  AIG\n",
      "Projection:  GEOGCS[\"WGS 84\",DATUM[\"WGS_1984\",SPHEROID[\"WGS 84\",6378137,298.257223563,AUTHORITY[\"EPSG\",\"7030\"]],AUTHORITY[\"EPSG\",\"6326\"]],PRIMEM[\"Greenwich\",0,AUTHORITY[\"EPSG\",\"8901\"]],UNIT[\"degree\",0.0174532925199433,AUTHORITY[\"EPSG\",\"9122\"]],AUTHORITY[\"EPSG\",\"4326\"]]\n",
      "----------------------------------------------------------------------------------------------------\n",
      "Size:  43200 x 18000 x 1\n",
      "X min =  -180.0\n",
      "X max =  180.0000187754631\n",
      "Y min =  -60.0\n",
      "Y max =  90.00000782310963\n",
      "Origin = ( -180.0 , 90.00000782310963 )\n",
      "Pixel Size = ( 0.008333333767950535 , -0.008333333767950535 )\n",
      "No Data Value =  255.0\n"
     ]
    }
   ],
   "source": [
    "jan_raster.show_raster_properties()"
   ]
  },
  {
   "cell_type": "markdown",
   "metadata": {},
   "source": [
    "Crop monthly arrays to size of soilgrid layers and staple them in an array:"
   ]
  },
  {
   "cell_type": "code",
   "execution_count": 6,
   "metadata": {},
   "outputs": [
    {
     "name": "stdout",
     "output_type": "stream",
     "text": [
      "CPU times: user 39 s, sys: 10.2 s, total: 49.2 s\n",
      "Wall time: 49 s\n"
     ]
    }
   ],
   "source": [
    "%%time\n",
    "\n",
    "swc_monthly = []\n",
    "for i in range(0, 12):\n",
    "    raster = mr.MyRaster(os.path.join(data_dir, 'swc_fr_' + str(i+1), 'hdr.adf'))\n",
    "    array = mr.cut_array_yboundaries(raster.get_array(),  \n",
    "                                     -60, 90.00000782310963, -56.00081039406058, \n",
    "                                     83.99916720600001, -0.008333333767950535)\n",
    "    \n",
    "    \"\"\"\n",
    "    # write rasters\n",
    "    out_filename = str(i+1) + '_swc_' + months[i]\n",
    "    mr.array2geotiff(array, os.path.join(out_dir, out_filename),\n",
    "                     raster.NoDataValue, array.shape[1], array.shape[0], \n",
    "                     -180, 83.99916720600001, raster.pixelWidth, raster.pixelHeight)\n",
    "    \"\"\"\n",
    "    \n",
    "    swc_monthly.append(array)\n",
    "swc_monthly = np.array(swc_monthly)"
   ]
  },
  {
   "cell_type": "markdown",
   "metadata": {
    "collapsed": true
   },
   "source": [
    "Transform arrays to a 1 to 5 scale:"
   ]
  },
  {
   "cell_type": "code",
   "execution_count": 7,
   "metadata": {},
   "outputs": [
    {
     "name": "stdout",
     "output_type": "stream",
     "text": [
      "CPU times: user 1min 37s, sys: 36.8 s, total: 2min 14s\n",
      "Wall time: 2min 14s\n"
     ]
    }
   ],
   "source": [
    "%%time\n",
    "\n",
    "swc_scaled_monthly = []\n",
    "\n",
    "for i in range(0, 12):\n",
    "    scaled = swc_monthly[i] / 2.5 + 10\n",
    "    scaled[swc_monthly[i] == 255] = 255\n",
    "    array = scaled.round(0)\n",
    "    array = array.astype('uint8')\n",
    "    \n",
    "    \"\"\"\n",
    "    # write rasters\n",
    "    out_filename = str(i+1) + '_swc_scaled_' + months[i]\n",
    "    mr.array2geotiff(array, os.path.join(out_dir, out_filename),\n",
    "                     raster.NoDataValue, array.shape[1], array.shape[0], \n",
    "                     -180, 83.99916720600001, raster.pixelWidth, raster.pixelHeight)\n",
    "    \"\"\"\n",
    "    \n",
    "    swc_scaled_monthly.append(array)\n",
    "\n",
    "swc_scaled_monthly = np.array(swc_scaled_monthly) "
   ]
  },
  {
   "cell_type": "code",
   "execution_count": 8,
   "metadata": {},
   "outputs": [
    {
     "data": {
      "text/plain": [
       "\"\\n# read rasters\\nswc_scaled_monthly = []\\nfor i in range(0, 12):\\n    out_filename = str(i+1) + '_swc_scaled_' + months[i] +'.tif'\\n    raster = mr.MyRaster(os.path.join(out_dir, out_filename))\\n    array = raster.get_array()\\n    swc_scaled_monthly.append(array)\\nswc_scaled_monthly = np.array(swc_monthly)\\n\""
      ]
     },
     "execution_count": 8,
     "metadata": {},
     "output_type": "execute_result"
    }
   ],
   "source": [
    "\"\"\"\n",
    "# read rasters\n",
    "swc_scaled_monthly = []\n",
    "for i in range(0, 12):\n",
    "    out_filename = str(i+1) + '_swc_scaled_' + months[i] +'.tif'\n",
    "    raster = mr.MyRaster(os.path.join(out_dir, out_filename))\n",
    "    array = raster.get_array()\n",
    "    swc_scaled_monthly.append(array)\n",
    "swc_scaled_monthly = np.array(swc_monthly)\n",
    "\"\"\""
   ]
  },
  {
   "cell_type": "markdown",
   "metadata": {},
   "source": [
    "Load irrigation data:"
   ]
  },
  {
   "cell_type": "code",
   "execution_count": 9,
   "metadata": {},
   "outputs": [],
   "source": [
    "aai_raster = mr.MyRaster(os.path.join(irr_dir, 'aai_resampled.tif'))\n",
    "aai = aai_raster.get_array()\n",
    "aai[aai == aai_raster.NoDataValue] = 0"
   ]
  },
  {
   "cell_type": "markdown",
   "metadata": {},
   "source": [
    "Correct soil moisture values where they are smaller than 30 assuming that irrigated areas get to a soil moisture value of 30:"
   ]
  },
  {
   "cell_type": "code",
   "execution_count": 10,
   "metadata": {},
   "outputs": [
    {
     "name": "stdout",
     "output_type": "stream",
     "text": [
      "CPU times: user 2min 32s, sys: 31.9 s, total: 3min 4s\n",
      "Wall time: 3min 4s\n"
     ]
    }
   ],
   "source": [
    "%%time\n",
    "\n",
    "irr_share = aai/100  # share of irrigated area\n",
    "irr = irr_share * 30  # irrigated areas are set to soil moisture category 30\n",
    "non_irr_share = 1 - aai/100  # share of non-irrigated areas\n",
    "\n",
    "for i in range(0, 12):\n",
    "    swc = swc_scaled_monthly[i]\n",
    "    corr = irr + non_irr_share * swc  # calculate correction layer\n",
    "    corr[corr > 50] = 255\n",
    "    corr = corr.round(0)\n",
    "    corr = corr.astype('uint8')\n",
    "    \n",
    "    swc[swc < 30] = corr[swc < 30]  # choose corrected values where swc < 30\n",
    "    swc[corr == 255] = 255\n",
    "    \n",
    "    mr.array2geotiff(swc, os.path.join(out_dir, str(i+1) + '_swc_corr_' + months[i]),\n",
    "                     255, swc.shape[1], swc.shape[0],\n",
    "                     -180, 83.99916720600001, aai_raster.pixelWidth, aai_raster.pixelHeight)"
   ]
  },
  {
   "cell_type": "code",
   "execution_count": null,
   "metadata": {
    "collapsed": true
   },
   "outputs": [],
   "source": []
  }
 ],
 "metadata": {
  "anaconda-cloud": {},
  "kernelspec": {
   "display_name": "Python [conda env:py36_gis]",
   "language": "python",
   "name": "conda-env-py36_gis-py"
  },
  "language_info": {
   "codemirror_mode": {
    "name": "ipython",
    "version": 3
   },
   "file_extension": ".py",
   "mimetype": "text/x-python",
   "name": "python",
   "nbconvert_exporter": "python",
   "pygments_lexer": "ipython3",
   "version": "3.6.2"
  }
 },
 "nbformat": 4,
 "nbformat_minor": 2
}
