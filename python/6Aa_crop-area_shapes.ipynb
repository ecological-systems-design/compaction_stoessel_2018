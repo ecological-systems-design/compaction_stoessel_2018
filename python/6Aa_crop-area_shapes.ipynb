{
 "cells": [
  {
   "cell_type": "code",
   "execution_count": 1,
   "metadata": {
    "collapsed": true
   },
   "outputs": [],
   "source": [
    "import os\n",
    "from osgeo import ogr\n",
    "import mypackages.myrasters as mr\n",
    "import netCDF4\n",
    "\n",
    "import rasterio\n",
    "from rasterio.features import shapes\n",
    "from shapely.geometry import shape\n",
    "from shapely.geometry import MultiPolygon\n",
    "from descartes import PolygonPatch\n",
    "\n",
    "import numpy as np\n",
    "import geopandas as gpd\n",
    "import matplotlib\n",
    "import matplotlib.pyplot as plt\n",
    "from mpl_toolkits.axes_grid1 import make_axes_locatable\n",
    "%matplotlib inline"
   ]
  },
  {
   "cell_type": "code",
   "execution_count": 2,
   "metadata": {
    "collapsed": true
   },
   "outputs": [],
   "source": [
    "data_dir = os.path.join('..', 'data')\n",
    "out_dir = os.path.join('..', 'output/impact')"
   ]
  },
  {
   "cell_type": "code",
   "execution_count": 3,
   "metadata": {
    "collapsed": true
   },
   "outputs": [],
   "source": [
    "file_name = 'Earthstat/Cropland2000_5min.nc'\n",
    "\n",
    "in_filename = os.path.join(data_dir, file_name)\n",
    "nc = netCDF4.Dataset(in_filename)\n",
    "var_name = 'farea'\n",
    "crops = nc.variables[var_name]"
   ]
  },
  {
   "cell_type": "code",
   "execution_count": 4,
   "metadata": {
    "collapsed": true
   },
   "outputs": [],
   "source": [
    "c = crops[0][0]\n",
    "c = c.data\n",
    "c[c == 9e20] = 0\n",
    "c[c > 0] = 1"
   ]
  },
  {
   "cell_type": "code",
   "execution_count": 5,
   "metadata": {
    "collapsed": true
   },
   "outputs": [],
   "source": [
    "c = mr.cut_array_yboundaries(array=c, pixelHeight=0.0833333, y_min_old=-90, y_min_new=-56, y_max_old=90, y_max_new=84)"
   ]
  },
  {
   "cell_type": "code",
   "execution_count": 6,
   "metadata": {},
   "outputs": [
    {
     "data": {
      "image/png": "[encoded data removed]",
      "text/plain": [
       "<matplotlib.figure.Figure at 0x7f33a831a588>"
      ]
     },
     "metadata": {},
     "output_type": "display_data"
    }
   ],
   "source": [
    "plt.imshow(c);"
   ]
  },
  {
   "cell_type": "code",
   "execution_count": 7,
   "metadata": {
    "collapsed": true
   },
   "outputs": [],
   "source": [
    "nc = crops[0][0]\n",
    "nc = nc.data\n",
    "nc[nc > 0] = -1\n",
    "nc[nc == 0] = 1\n",
    "nc[nc == -1] = 0"
   ]
  },
  {
   "cell_type": "code",
   "execution_count": 8,
   "metadata": {
    "collapsed": true
   },
   "outputs": [],
   "source": [
    "nc = mr.cut_array_yboundaries(array=nc, pixelHeight=0.0833333, y_min_old=-90, y_min_new=-56, y_max_old=90, y_max_new=84)"
   ]
  },
  {
   "cell_type": "code",
   "execution_count": 9,
   "metadata": {},
   "outputs": [
    {
     "data": {
      "image/png": "[encoded data removed]",
      "text/plain": [
       "<matplotlib.figure.Figure at 0x7f3371323a58>"
      ]
     },
     "metadata": {},
     "output_type": "display_data"
    }
   ],
   "source": [
    "plt.imshow(nc);"
   ]
  },
  {
   "cell_type": "code",
   "execution_count": 10,
   "metadata": {
    "collapsed": true
   },
   "outputs": [],
   "source": [
    "impact = mr.MyRaster(os.path.join(out_dir, 'impact_potato.tif'))"
   ]
  },
  {
   "cell_type": "code",
   "execution_count": 11,
   "metadata": {
    "collapsed": true
   },
   "outputs": [],
   "source": [
    "out_filename = 'crop_area'\n",
    "mr.array2geotiff(c, os.path.join(out_dir, out_filename),\n",
    "                 0, 4320, 1680,\n",
    "                 -180, 84, 0.0833333, -0.0833333)"
   ]
  },
  {
   "cell_type": "code",
   "execution_count": 12,
   "metadata": {
    "collapsed": true
   },
   "outputs": [],
   "source": [
    "out_filename = 'non_crop_area'\n",
    "mr.array2geotiff(nc, os.path.join(out_dir, out_filename),\n",
    "                 0, 4320, 1680,\n",
    "                 -180, 84, 0.0833333, -0.0833333)"
   ]
  },
  {
   "cell_type": "code",
   "execution_count": 13,
   "metadata": {
    "collapsed": true
   },
   "outputs": [],
   "source": [
    "filename = 'crop_area.tif'\n",
    "with rasterio.drivers():\n",
    "    with rasterio.open(os.path.join(out_dir, filename)) as src:\n",
    "        image = src.read(1) # first band\n",
    "        results = ({'properties': {'raster_val': v}, 'geometry': s}\n",
    "                    for i, (s, v) \n",
    "                    in enumerate(shapes(image, mask=None, transform=src.affine)))"
   ]
  },
  {
   "cell_type": "code",
   "execution_count": 14,
   "metadata": {
    "collapsed": true
   },
   "outputs": [],
   "source": [
    "geoms = list(results)"
   ]
  },
  {
   "cell_type": "code",
   "execution_count": 15,
   "metadata": {
    "collapsed": true
   },
   "outputs": [],
   "source": [
    "gdf = gpd.GeoDataFrame.from_features(geoms)"
   ]
  },
  {
   "cell_type": "code",
   "execution_count": 16,
   "metadata": {
    "collapsed": true
   },
   "outputs": [],
   "source": [
    "a = gdf[gdf['raster_val'] == 1]"
   ]
  },
  {
   "cell_type": "code",
   "execution_count": 17,
   "metadata": {
    "collapsed": true
   },
   "outputs": [],
   "source": [
    "b = []\n",
    "for i in a.index:\n",
    "    b.append(gdf.iloc[i]['geometry'])"
   ]
  },
  {
   "cell_type": "code",
   "execution_count": 18,
   "metadata": {
    "collapsed": true
   },
   "outputs": [],
   "source": [
    "c = MultiPolygon(b)"
   ]
  },
  {
   "cell_type": "code",
   "execution_count": 19,
   "metadata": {
    "collapsed": true
   },
   "outputs": [],
   "source": [
    "out_filename = 'crop_area.shp'\n",
    "\n",
    "# Create layer\n",
    "driver = ogr.GetDriverByName('Esri Shapefile')\n",
    "ds = driver.CreateDataSource(os.path.join(out_dir, out_filename))\n",
    "layer = ds.CreateLayer('', None, ogr.wkbMultiPolygon)\n",
    "\n",
    "# Add one attribute\n",
    "layer.CreateField(ogr.FieldDefn('id', ogr.OFTInteger))\n",
    "defn = layer.GetLayerDefn()\n",
    "\n",
    "# Create a new feature (attribute and geometry)\n",
    "feat = ogr.Feature(defn)\n",
    "feat.SetField('id', 1)\n",
    "\n",
    "# Make a geometry, from Shapely object\n",
    "geom = ogr.CreateGeometryFromWkb(c.wkb)\n",
    "feat.SetGeometry(geom)\n",
    "\n",
    "layer.CreateFeature(feat)\n",
    "\n",
    "# Save and close everything\n",
    "ds = layer = feat = geom = None"
   ]
  },
  {
   "cell_type": "code",
   "execution_count": 20,
   "metadata": {
    "collapsed": true
   },
   "outputs": [],
   "source": [
    "filename = 'non_crop_area.tif'\n",
    "with rasterio.drivers():\n",
    "    with rasterio.open(os.path.join(out_dir, filename)) as src:\n",
    "        image = src.read(1) # first band\n",
    "        results = ({'properties': {'raster_val': v}, 'geometry': s}\n",
    "                    for i, (s, v) \n",
    "                    in enumerate(shapes(image, mask=None, transform=src.affine)))"
   ]
  },
  {
   "cell_type": "code",
   "execution_count": 21,
   "metadata": {
    "collapsed": true
   },
   "outputs": [],
   "source": [
    "geoms = list(results)"
   ]
  },
  {
   "cell_type": "code",
   "execution_count": 22,
   "metadata": {
    "collapsed": true
   },
   "outputs": [],
   "source": [
    "gdf = gpd.GeoDataFrame.from_features(geoms)"
   ]
  },
  {
   "cell_type": "code",
   "execution_count": 23,
   "metadata": {
    "collapsed": true
   },
   "outputs": [],
   "source": [
    "a = gdf[gdf['raster_val'] == 1]"
   ]
  },
  {
   "cell_type": "code",
   "execution_count": 24,
   "metadata": {
    "collapsed": true
   },
   "outputs": [],
   "source": [
    "b = []\n",
    "for i in a.index:\n",
    "    b.append(gdf.iloc[i]['geometry'])"
   ]
  },
  {
   "cell_type": "code",
   "execution_count": 25,
   "metadata": {
    "collapsed": true
   },
   "outputs": [],
   "source": [
    "c = MultiPolygon(b)"
   ]
  },
  {
   "cell_type": "code",
   "execution_count": 26,
   "metadata": {
    "collapsed": true
   },
   "outputs": [],
   "source": [
    "out_filename = 'non_crop_area.shp'\n",
    "\n",
    "# Create layer\n",
    "driver = ogr.GetDriverByName('Esri Shapefile')\n",
    "ds = driver.CreateDataSource(os.path.join(out_dir, out_filename))\n",
    "layer = ds.CreateLayer('', None, ogr.wkbMultiPolygon)\n",
    "\n",
    "# Add one attribute\n",
    "layer.CreateField(ogr.FieldDefn('id', ogr.OFTInteger))\n",
    "defn = layer.GetLayerDefn()\n",
    "\n",
    "# Create a new feature (attribute and geometry)\n",
    "feat = ogr.Feature(defn)\n",
    "feat.SetField('id', 1)\n",
    "\n",
    "# Make a geometry, from Shapely object\n",
    "geom = ogr.CreateGeometryFromWkb(c.wkb)\n",
    "feat.SetGeometry(geom)\n",
    "\n",
    "layer.CreateFeature(feat)\n",
    "\n",
    "# Save and close everything\n",
    "ds = layer = feat = geom = None"
   ]
  },
  {
   "cell_type": "code",
   "execution_count": null,
   "metadata": {
    "collapsed": true
   },
   "outputs": [],
   "source": []
  }
 ],
 "metadata": {
  "kernelspec": {
   "display_name": "Python [conda env:py36_gis2]",
   "language": "python",
   "name": "conda-env-py36_gis2-py"
  },
  "language_info": {
   "codemirror_mode": {
    "name": "ipython",
    "version": 3
   },
   "file_extension": ".py",
   "mimetype": "text/x-python",
   "name": "python",
   "nbconvert_exporter": "python",
   "pygments_lexer": "ipython3",
   "version": "3.6.2"
  }
 },
 "nbformat": 4,
 "nbformat_minor": 2
}
