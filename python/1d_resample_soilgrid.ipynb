{
 "cells": [
  {
   "cell_type": "markdown",
   "metadata": {},
   "source": [
    "This code works well for coarser rasters then the 250m-resolution-rasters from soilgrids. Therefore, the resampling of the clay-raster has been done in ArcGIS."
   ]
  },
  {
   "cell_type": "code",
   "execution_count": null,
   "metadata": {
    "collapsed": true
   },
   "outputs": [],
   "source": [
    "import os\n",
    "import mypackages.myrasters as mr\n",
    "import numpy as np\n",
    "import matplotlib.pyplot as plt\n",
    "%matplotlib inline"
   ]
  },
  {
   "cell_type": "code",
   "execution_count": null,
   "metadata": {
    "collapsed": true
   },
   "outputs": [],
   "source": [
    "data_dir = os.path.join('..', 'data')\n",
    "out_dir = os.path.join('..', 'output/soilgrids_prepared')"
   ]
  },
  {
   "cell_type": "code",
   "execution_count": null,
   "metadata": {},
   "outputs": [],
   "source": [
    "# test data\n",
    "\"\"\"\n",
    "array = np.array([[1, 2, 255, 4, 2, 3],\n",
    "                  [5, 6, 7, 8, 4, 2],\n",
    "                  [255, 255, 255, 255, 4, 1],\n",
    "                  [8, 7, 255, 255, 8, 1]])\n",
    "#\"\"\""
   ]
  },
  {
   "cell_type": "code",
   "execution_count": null,
   "metadata": {},
   "outputs": [],
   "source": [
    "# test array\n",
    "\"\"\"\n",
    "soilm = mr.MyRaster(os.path.join(data_dir, 'soilm_test.tif'))\n",
    "array = soilm.get_array()\n",
    "#\"\"\""
   ]
  },
  {
   "cell_type": "code",
   "execution_count": null,
   "metadata": {
    "collapsed": true
   },
   "outputs": [],
   "source": [
    "#plt.imshow(mr.mask_array(array, 255))\n",
    "#plt.imshow(mr.mask_array(array, soilm.NoDataValue))"
   ]
  },
  {
   "cell_type": "code",
   "execution_count": null,
   "metadata": {},
   "outputs": [],
   "source": [
    "%%time\n",
    "\n",
    "#new_array = mr.resample_array_to_lower_resolution(array, 0.5, 255)\n",
    "#new_array = mr.resample_array_to_lower_resolution(array, 0.25, soilm.NoDataValue)"
   ]
  },
  {
   "cell_type": "code",
   "execution_count": null,
   "metadata": {
    "collapsed": true
   },
   "outputs": [],
   "source": [
    "#plt.imshow(mr.mask_array(new_array, 255))\n",
    "#plt.imshow(mr.mask_array(new_array, soilm.NoDataValue))"
   ]
  },
  {
   "cell_type": "code",
   "execution_count": null,
   "metadata": {
    "collapsed": true
   },
   "outputs": [],
   "source": []
  },
  {
   "cell_type": "markdown",
   "metadata": {
    "collapsed": true
   },
   "source": [
    "Code for resampling the clay-raster (works but needs a lot of computational power and time):"
   ]
  },
  {
   "cell_type": "code",
   "execution_count": null,
   "metadata": {
    "collapsed": true
   },
   "outputs": [],
   "source": [
    "clay_dir = os.path.join('..', 'output/soilgrids_prepared')"
   ]
  },
  {
   "cell_type": "code",
   "execution_count": null,
   "metadata": {
    "collapsed": true
   },
   "outputs": [],
   "source": [
    "clay_raster = mr.MyRaster(os.path.join(clay_dir, 'CLYPPT_ts.tif'))"
   ]
  },
  {
   "cell_type": "code",
   "execution_count": null,
   "metadata": {},
   "outputs": [],
   "source": [
    "%%time\n",
    "\n",
    "clay = clay_raster.get_array()"
   ]
  },
  {
   "cell_type": "code",
   "execution_count": null,
   "metadata": {
    "collapsed": true
   },
   "outputs": [],
   "source": [
    "%%time\n",
    "\n",
    "new_array = mr.resample_array_to_lower_resolution(clay, 0.25, clay_raster.NoDataValue)"
   ]
  },
  {
   "cell_type": "code",
   "execution_count": null,
   "metadata": {
    "collapsed": true
   },
   "outputs": [],
   "source": [
    "%%time\n",
    "\n",
    "mr.array2geotiff(new_array, os.path.join(data_dir, 'CLYPPT_ts_pyresample'),\n",
    "                 clay_raster.NoDataValue, new_array.shape[1], new_array.shape[0],\n",
    "                 clay_raster.xOrigin, clay_raster.yOrigin,\n",
    "                 clay_raster.pixelWidth/scaling_factor, clay_raster.pixelHeight/scaling_factor)"
   ]
  },
  {
   "cell_type": "code",
   "execution_count": null,
   "metadata": {
    "collapsed": true
   },
   "outputs": [],
   "source": []
  },
  {
   "cell_type": "markdown",
   "metadata": {},
   "source": [
    "Doing it tile for tile and put it back together (incomplete code):"
   ]
  },
  {
   "cell_type": "code",
   "execution_count": null,
   "metadata": {
    "collapsed": true
   },
   "outputs": [],
   "source": [
    "%%time\n",
    "\n",
    "clay = clay_raster.get_bounded_array(-180, -179, clay_raster.yMin, clay_raster.yMax)"
   ]
  },
  {
   "cell_type": "code",
   "execution_count": null,
   "metadata": {
    "collapsed": true
   },
   "outputs": [],
   "source": [
    "scaling_factor = 0.25"
   ]
  },
  {
   "cell_type": "code",
   "execution_count": null,
   "metadata": {
    "collapsed": true
   },
   "outputs": [],
   "source": [
    "new_shape = (int(array.shape[0] * scaling_factor), int(array.shape[1] * scaling_factor))\n",
    "array.shape, new_shape"
   ]
  },
  {
   "cell_type": "code",
   "execution_count": null,
   "metadata": {
    "collapsed": true
   },
   "outputs": [],
   "source": [
    "def get_tiles(array, scaling_factor):\n",
    "    \n",
    "    \"\"\"\n",
    "    This function calculates the x and y offsets and the x and y size of all tiles\n",
    "    the input raster is cut into.\n",
    "    \"\"\"\n",
    "    \n",
    "    # number of tiles to cut old array into = shape of new array\n",
    "    x_tiles = int(array.shape[1] * scaling_factor)\n",
    "    y_tiles = int(array.shape[0] * scaling_factor)\n",
    "    new_shape = (y_tiles, x_tiles)\n",
    "    \n",
    "    # tile size in old array\n",
    "    x_size = array.shape[1] / x_tiles\n",
    "    y_size = array.shape[0] / y_tiles\n",
    "\n",
    "    # offset for each tile in old array\n",
    "    x_offs = [0]\n",
    "    y_offs = [0]\n",
    "    for i in range(1, x_tiles):\n",
    "        x_offs.append(int(i*x_size))\n",
    "    for i in range(1, y_tiles):\n",
    "        y_offs.append(int(i*y_size))\n",
    "\n",
    "    return [x_offs, y_offs, x_size, y_size]\n"
   ]
  },
  {
   "cell_type": "code",
   "execution_count": null,
   "metadata": {
    "collapsed": true
   },
   "outputs": [],
   "source": [
    "x_tiles = new_shape[1]\n",
    "y_tiles = new_shape[0]\n",
    "\n",
    "x_offs, y_offs, x_size, y_size = get_tiles(array, scaling_factor)\n",
    "#x_offs, y_offs, x_size, y_size"
   ]
  },
  {
   "cell_type": "code",
   "execution_count": null,
   "metadata": {
    "collapsed": true
   },
   "outputs": [],
   "source": [
    "NoDataValue = soilm.NoDataValue\n",
    "\n",
    "no_data = np.full(new_shape, NoDataValue)"
   ]
  },
  {
   "cell_type": "code",
   "execution_count": null,
   "metadata": {
    "collapsed": true
   },
   "outputs": [],
   "source": [
    "new_array = np.full(new_shape, NoDataValue)\n",
    "\n",
    "for j in range(0, y_tiles):\n",
    "    for i in range(0, x_tiles):\n",
    "\n",
    "        tile = array[y_offs[j]:(y_offs[j] + y_size), x_offs[i]:(x_offs[i] + x_size)]\n",
    "        if np.array_equal(tile, no_data):\n",
    "            value = NoDataValue\n",
    "        else:\n",
    "            mask = tile == NoDataValue\n",
    "            tile_ma = np.ma.masked_array(tile, mask)\n",
    "            value = tile_ma.mean()\n",
    "\n",
    "        new_array[j][i] = value\n"
   ]
  },
  {
   "cell_type": "code",
   "execution_count": null,
   "metadata": {
    "collapsed": true
   },
   "outputs": [],
   "source": [
    "new_array[np.isnan(new_array) == True] = NoDataValue\n",
    "new_array = new_array.round(0).astype('int16')\n",
    "new_array"
   ]
  },
  {
   "cell_type": "code",
   "execution_count": null,
   "metadata": {
    "collapsed": true
   },
   "outputs": [],
   "source": [
    "plt.imshow(new_array);"
   ]
  },
  {
   "cell_type": "code",
   "execution_count": null,
   "metadata": {
    "collapsed": true
   },
   "outputs": [],
   "source": [
    "new_array.shape"
   ]
  },
  {
   "cell_type": "code",
   "execution_count": null,
   "metadata": {
    "collapsed": true
   },
   "outputs": [],
   "source": [
    "mr.array2geotiff(new_array, os.path.join(data_dir, 'soilm_yearly_mean_cut_resampled'),\n",
    "                 soilm.NoDataValue, new_array.shape[1], new_array.shape[0],\n",
    "                 soilm.xOrigin, soilm.yOrigin,\n",
    "                 soilm.pixelWidth/scaling_factor, soilm.pixelHeight/scaling_factor)"
   ]
  },
  {
   "cell_type": "code",
   "execution_count": null,
   "metadata": {
    "collapsed": true
   },
   "outputs": [],
   "source": [
    "soilm.xOrigin"
   ]
  },
  {
   "cell_type": "code",
   "execution_count": null,
   "metadata": {
    "collapsed": true
   },
   "outputs": [],
   "source": []
  },
  {
   "cell_type": "code",
   "execution_count": null,
   "metadata": {
    "collapsed": true
   },
   "outputs": [],
   "source": [
    "soilm.get_array().shape"
   ]
  },
  {
   "cell_type": "code",
   "execution_count": null,
   "metadata": {
    "collapsed": true
   },
   "outputs": [],
   "source": [
    "array2geotiff(a, os.path.join('output/temp', 'x' + str(i+1) +'_y' + str(j+1)), -9999,\n",
    "              tiles[2] * scaling_factor, tiles[3] * scaling_factor,\n",
    "              bbox_xMinDeg, bbox_yMaxDeg,\n",
    "              soilm.pixelWidth/scaling_factor, soilm.pixelHeight/scaling_factor)"
   ]
  },
  {
   "cell_type": "code",
   "execution_count": null,
   "metadata": {
    "collapsed": true
   },
   "outputs": [],
   "source": [
    "[print(old,new) for old,new in zip(array.shape,newshape)]"
   ]
  },
  {
   "cell_type": "code",
   "execution_count": null,
   "metadata": {
    "collapsed": true
   },
   "outputs": [],
   "source": [
    "slices = [slice(0,old, float(old)/new) for old,new in zip(array.shape,newshape)]"
   ]
  },
  {
   "cell_type": "code",
   "execution_count": null,
   "metadata": {
    "collapsed": true
   },
   "outputs": [],
   "source": [
    "slices"
   ]
  },
  {
   "cell_type": "code",
   "execution_count": null,
   "metadata": {
    "collapsed": true
   },
   "outputs": [],
   "source": [
    "coordinates = mgrid[slices]"
   ]
  },
  {
   "cell_type": "code",
   "execution_count": null,
   "metadata": {
    "collapsed": true
   },
   "outputs": [],
   "source": [
    "coordinates"
   ]
  },
  {
   "cell_type": "code",
   "execution_count": null,
   "metadata": {
    "collapsed": true
   },
   "outputs": [],
   "source": []
  }
 ],
 "metadata": {
  "anaconda-cloud": {},
  "kernelspec": {
   "display_name": "Python [conda env:py36_gis]",
   "language": "python",
   "name": "conda-env-py36_gis-py"
  },
  "language_info": {
   "codemirror_mode": {
    "name": "ipython",
    "version": 3
   },
   "file_extension": ".py",
   "mimetype": "text/x-python",
   "name": "python",
   "nbconvert_exporter": "python",
   "pygments_lexer": "ipython3",
   "version": "3.6.2"
  }
 },
 "nbformat": 4,
 "nbformat_minor": 2
}
