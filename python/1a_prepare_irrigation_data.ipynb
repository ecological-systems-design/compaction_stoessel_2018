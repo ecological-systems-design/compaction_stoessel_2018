{
 "cells": [
  {
   "cell_type": "code",
   "execution_count": 1,
   "metadata": {
    "collapsed": true
   },
   "outputs": [],
   "source": [
    "import os\n",
    "import mypackages.myrasters as mr\n",
    "import numpy as np\n",
    "%matplotlib inline"
   ]
  },
  {
   "cell_type": "code",
   "execution_count": 2,
   "metadata": {
    "collapsed": true
   },
   "outputs": [],
   "source": [
    "data_dir = os.path.join('..', 'data')\n",
    "out_dir = os.path.join('..', 'output/irrigation_prepared')"
   ]
  },
  {
   "cell_type": "markdown",
   "metadata": {},
   "source": [
    "Read irrigation rasters:"
   ]
  },
  {
   "cell_type": "code",
   "execution_count": 3,
   "metadata": {
    "collapsed": true
   },
   "outputs": [],
   "source": [
    "aei_raster = mr.MyRaster(os.path.join(data_dir, 'FAO/Aquastat/gmia_v5_aei_pct.asc'))\n",
    "aai_pct_aei_raster = mr.MyRaster(os.path.join(data_dir, 'FAO/Aquastat/gmia_v5_aai_pct_aei.asc'))"
   ]
  },
  {
   "cell_type": "code",
   "execution_count": 4,
   "metadata": {},
   "outputs": [
    {
     "name": "stdout",
     "output_type": "stream",
     "text": [
      "Driver:  AAIGrid\n",
      "Projection:  \n",
      "----------------------------------------------------------------------------------------------------\n",
      "Size:  4320 x 2160 x 1\n",
      "X min =  -180.0\n",
      "X max =  180.0\n",
      "Y min =  -90.0\n",
      "Y max =  90.0\n",
      "Origin = ( -180.0 , 90.0 )\n",
      "Pixel Size = ( 0.08333333333333333 , -0.08333333333333333 )\n",
      "No Data Value =  -9.0\n"
     ]
    }
   ],
   "source": [
    "aei_raster.show_raster_properties()"
   ]
  },
  {
   "cell_type": "markdown",
   "metadata": {},
   "source": [
    "Calculate area actually irrigated as % of area:"
   ]
  },
  {
   "cell_type": "code",
   "execution_count": 5,
   "metadata": {
    "collapsed": true
   },
   "outputs": [],
   "source": [
    "aei = aei_raster.get_array()  # area equipped for irrigation in %\n",
    "aai_pct_aei = aai_pct_aei_raster.get_array()  # area actually irrigated as % of area equipped for irrigation"
   ]
  },
  {
   "cell_type": "code",
   "execution_count": 6,
   "metadata": {
    "collapsed": true
   },
   "outputs": [],
   "source": [
    "aai = aei * aai_pct_aei / 100  # area actually irrigated as % of area\n",
    "aai[aei == aei_raster.NoDataValue] = aei_raster.NoDataValue"
   ]
  },
  {
   "cell_type": "markdown",
   "metadata": {},
   "source": [
    "Crop to size of soilgrid layers:"
   ]
  },
  {
   "cell_type": "code",
   "execution_count": 7,
   "metadata": {},
   "outputs": [
    {
     "name": "stdout",
     "output_type": "stream",
     "text": [
      "Driver:  GTiff\n",
      "Projection:  GEOGCS[\"WGS 84\",DATUM[\"WGS_1984\",SPHEROID[\"WGS 84\",6378137,298.257223563,AUTHORITY[\"EPSG\",\"7030\"]],AUTHORITY[\"EPSG\",\"6326\"]],PRIMEM[\"Greenwich\",0],UNIT[\"degree\",0.0174532925199433],AUTHORITY[\"EPSG\",\"4326\"]]\n",
      "----------------------------------------------------------------------------------------------------\n",
      "Size:  172800 x 67200 x 1\n",
      "X min =  -180.0\n",
      "X max =  179.99994240015582\n",
      "Y min =  -56.00081039406058\n",
      "Y max =  83.99916720600001\n",
      "Origin = ( -180.0 , 83.99916720600001 )\n",
      "Pixel Size = ( 0.0020833330000009018 , -0.0020833330000009018 )\n",
      "No Data Value =  255.0\n"
     ]
    }
   ],
   "source": [
    "file_name = 'soilgrids/CLYPPT_M_sl1_250m_ll.tif'\n",
    "\n",
    "in_filename = os.path.join(data_dir, file_name)\n",
    "soilgrid_raster = mr.MyRaster(in_filename)\n",
    "soilgrid_raster.show_raster_properties()"
   ]
  },
  {
   "cell_type": "code",
   "execution_count": 8,
   "metadata": {
    "collapsed": true
   },
   "outputs": [],
   "source": [
    "aai_cut = mr.cut_array_yboundaries(aai, -90, 90, -56.00081039406058, 83.99916720600001, -0.08333333333333333)"
   ]
  },
  {
   "cell_type": "code",
   "execution_count": 9,
   "metadata": {
    "collapsed": true
   },
   "outputs": [],
   "source": [
    "out_filename = 'area_actually_irrigated[%]'\n",
    "\n",
    "mr.array2geotiff(aai_cut, os.path.join(out_dir, out_filename),\n",
    "                 aei_raster.NoDataValue, aai_cut.shape[1], aai_cut.shape[0], \n",
    "                 -180, 83.99916720600001, aei_raster.pixelWidth, aei_raster.pixelHeight)\n"
   ]
  },
  {
   "cell_type": "markdown",
   "metadata": {},
   "source": [
    "Resample irrigation raster to a 10 times higher resolution (resolution of soil water data):"
   ]
  },
  {
   "cell_type": "code",
   "execution_count": 10,
   "metadata": {},
   "outputs": [
    {
     "name": "stdout",
     "output_type": "stream",
     "text": [
      "CPU times: user 14.5 s, sys: 11.6 s, total: 26.1 s\n",
      "Wall time: 26.1 s\n"
     ]
    }
   ],
   "source": [
    "%%time\n",
    "\n",
    "scaling_factor = 10\n",
    "aai_resampled = mr.resample_array_to_higher_resolution(aai_cut, scaling_factor)\n"
   ]
  },
  {
   "cell_type": "code",
   "execution_count": 11,
   "metadata": {
    "collapsed": true
   },
   "outputs": [],
   "source": [
    "aai_raster = mr.MyRaster(os.path.join(out_dir, 'area_actually_irrigated[%].tif'))"
   ]
  },
  {
   "cell_type": "code",
   "execution_count": 12,
   "metadata": {},
   "outputs": [
    {
     "name": "stdout",
     "output_type": "stream",
     "text": [
      "CPU times: user 23 s, sys: 1.51 s, total: 24.5 s\n",
      "Wall time: 24.3 s\n"
     ]
    }
   ],
   "source": [
    "%%time\n",
    "\n",
    "mr.array2geotiff(aai_resampled, os.path.join(out_dir, 'aai_resampled'), -9,\n",
    "                 aai_raster.xSize * scaling_factor, aai_raster.ySize * scaling_factor,\n",
    "                 aai_raster.xMin, aai_raster.yMax,\n",
    "                 aai_raster.pixelWidth/scaling_factor, aai_raster.pixelHeight/scaling_factor)"
   ]
  },
  {
   "cell_type": "code",
   "execution_count": null,
   "metadata": {
    "collapsed": true
   },
   "outputs": [],
   "source": []
  }
 ],
 "metadata": {
  "anaconda-cloud": {},
  "kernelspec": {
   "display_name": "Python [conda env:py36_gis]",
   "language": "python",
   "name": "conda-env-py36_gis-py"
  },
  "language_info": {
   "codemirror_mode": {
    "name": "ipython",
    "version": 3
   },
   "file_extension": ".py",
   "mimetype": "text/x-python",
   "name": "python",
   "nbconvert_exporter": "python",
   "pygments_lexer": "ipython3",
   "version": "3.6.2"
  }
 },
 "nbformat": 4,
 "nbformat_minor": 2
}
